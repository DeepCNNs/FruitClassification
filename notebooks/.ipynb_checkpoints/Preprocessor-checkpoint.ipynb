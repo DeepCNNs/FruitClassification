{
 "cells": [
  {
   "cell_type": "code",
   "execution_count": 1,
   "metadata": {},
   "outputs": [],
   "source": [
    "### Import required libraries\n",
    "import cv2\n",
    "from os import listdir\n",
    "from os.path import isfile, join\n",
    "import matplotlib.pyplot as plt"
   ]
  },
  {
   "cell_type": "code",
   "execution_count": 2,
   "metadata": {},
   "outputs": [],
   "source": [
    "### Set source and target paths\n",
    "src_dir = \"/home/adity/Desktop/projects/datasets/fruits/train/\"\n",
    "dest_dir = \"/home/adity/Desktop/projects/datasets/fruits/final_train/ori/\""
   ]
  },
  {
   "cell_type": "code",
   "execution_count": 3,
   "metadata": {},
   "outputs": [],
   "source": [
    "def read_files_from_dir(mypath):\n",
    "    allfiles = [f for f in listdir(mypath) if isfile(join(mypath, f))]\n",
    "    return allfiles"
   ]
  },
  {
   "cell_type": "code",
   "execution_count": 4,
   "metadata": {},
   "outputs": [],
   "source": [
    "files = read_files_from_dir(src_dir)"
   ]
  },
  {
   "cell_type": "code",
   "execution_count": 5,
   "metadata": {},
   "outputs": [],
   "source": [
    "image_target_size = (28, 28)"
   ]
  },
  {
   "cell_type": "code",
   "execution_count": 16,
   "metadata": {},
   "outputs": [],
   "source": [
    "i = 0\n",
    "\n",
    "for file in files:\n",
    "    filename = file.strip('.')[0]\n",
    "    image = cv2.imread(src_dir + file)\n",
    "    img_size = image.shape\n",
    "\n",
    "    if img_size[0] > img_size[1]:\n",
    "        top = 0\n",
    "        bottom = 0\n",
    "        left = int((img_size[0] - img_size[1]) / 2)\n",
    "        right = int((img_size[0] - img_size[1]) / 2)\n",
    "        borderType = cv2.BORDER_CONSTANT\n",
    "        image = cv2.copyMakeBorder( image, top, bottom, left, right, borderType)\n",
    "    else:\n",
    "        left = 0\n",
    "        right = 0\n",
    "        top = int((img_size[1] - img_size[0]) / 2)\n",
    "        bottom = int((img_size[1] - img_size[0]) / 2)\n",
    "        borderType = cv2.BORDER_CONSTANT\n",
    "        image = cv2.copyMakeBorder( image, top, bottom, left, right, borderType)\n",
    "    image = cv2.resize(image, image_target_size) \n",
    "    cv2.imwrite(dest_dir + filename + \"_\" + str(i) + \".jpg\", image)\n",
    "    i += 1    "
   ]
  },
  {
   "cell_type": "code",
   "execution_count": null,
   "metadata": {},
   "outputs": [],
   "source": []
  }
 ],
 "metadata": {
  "kernelspec": {
   "display_name": "Python 3",
   "language": "python",
   "name": "python3"
  },
  "language_info": {
   "codemirror_mode": {
    "name": "ipython",
    "version": 3
   },
   "file_extension": ".py",
   "mimetype": "text/x-python",
   "name": "python",
   "nbconvert_exporter": "python",
   "pygments_lexer": "ipython3",
   "version": "3.6.9"
  }
 },
 "nbformat": 4,
 "nbformat_minor": 2
}
